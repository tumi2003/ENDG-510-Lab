{
 "cells": [
  {
   "cell_type": "code",
   "execution_count": 8,
   "metadata": {},
   "outputs": [
    {
     "data": {
      "text/html": [
       "<div>\n",
       "<style scoped>\n",
       "    .dataframe tbody tr th:only-of-type {\n",
       "        vertical-align: middle;\n",
       "    }\n",
       "\n",
       "    .dataframe tbody tr th {\n",
       "        vertical-align: top;\n",
       "    }\n",
       "\n",
       "    .dataframe thead th {\n",
       "        text-align: right;\n",
       "    }\n",
       "</style>\n",
       "<table border=\"1\" class=\"dataframe\">\n",
       "  <thead>\n",
       "    <tr style=\"text-align: right;\">\n",
       "      <th></th>\n",
       "      <th>Temp</th>\n",
       "      <th>Humd</th>\n",
       "      <th>Label</th>\n",
       "    </tr>\n",
       "  </thead>\n",
       "  <tbody>\n",
       "    <tr>\n",
       "      <th>0</th>\n",
       "      <td>25</td>\n",
       "      <td>58</td>\n",
       "      <td>1</td>\n",
       "    </tr>\n",
       "    <tr>\n",
       "      <th>1</th>\n",
       "      <td>25</td>\n",
       "      <td>59</td>\n",
       "      <td>1</td>\n",
       "    </tr>\n",
       "    <tr>\n",
       "      <th>2</th>\n",
       "      <td>25</td>\n",
       "      <td>60</td>\n",
       "      <td>1</td>\n",
       "    </tr>\n",
       "    <tr>\n",
       "      <th>3</th>\n",
       "      <td>25</td>\n",
       "      <td>64</td>\n",
       "      <td>1</td>\n",
       "    </tr>\n",
       "    <tr>\n",
       "      <th>4</th>\n",
       "      <td>25</td>\n",
       "      <td>64</td>\n",
       "      <td>1</td>\n",
       "    </tr>\n",
       "  </tbody>\n",
       "</table>\n",
       "</div>"
      ],
      "text/plain": [
       "   Temp  Humd  Label\n",
       "0    25    58      1\n",
       "1    25    59      1\n",
       "2    25    60      1\n",
       "3    25    64      1\n",
       "4    25    64      1"
      ]
     },
     "execution_count": 8,
     "metadata": {},
     "output_type": "execute_result"
    }
   ],
   "source": [
    "import numpy as np\n",
    "import pandas as pd\n",
    "import os\n",
    "from sklearn.neighbors import KNeighborsClassifier\n",
    "from sklearn.preprocessing import StandardScaler\n",
    "from sklearn.svm import SVC\n",
    "from sklearn.tree import DecisionTreeClassifier\n",
    "from sklearn.model_selection import train_test_split\n",
    "from sklearn import metrics\n",
    "\n",
    "df = pd.read_csv('C:/Users/Progressive/Downloads/data.csv')\n",
    "df.head()"
   ]
  },
  {
   "cell_type": "code",
   "execution_count": 11,
   "metadata": {},
   "outputs": [
    {
     "name": "stdout",
     "output_type": "stream",
     "text": [
      "Missing Values:\n",
      " Temp     0\n",
      "Humd     0\n",
      "Label    0\n",
      "dtype: int64\n"
     ]
    }
   ],
   "source": [
    "#check for missing values\n",
    "missing_values = df.isnull().sum()\n",
    "print(\"Missing Values:\\n\", missing_values)"
   ]
  },
  {
   "cell_type": "code",
   "execution_count": 12,
   "metadata": {},
   "outputs": [],
   "source": [
    "#remove duplicated values\n",
    "df = df.drop_duplicates()\n",
    "\n",
    "# prepare features\n",
    "x = df.drop(['Label'],axis=1) #remove class or label\n",
    "y = df['Label'] #load label\n",
    "\n",
    "x_train,x_test,y_train,y_test = train_test_split(x,y,test_size=.2)\n",
    "  "
   ]
  },
  {
   "cell_type": "code",
   "execution_count": 13,
   "metadata": {},
   "outputs": [],
   "source": [
    "import pandas as pd\n",
    "import numpy as np\n",
    "\n",
    "# Assume x_train and y_train are DataFrames\n",
    "new_samples = pd.DataFrame({\n",
    "    'Temp': np.random.randint(20, 30, size=5),\n",
    "    'Humd': np.random.randint(50, 90, size=5),\n",
    "    'Label': 0  # New class\n",
    "})\n",
    "x_train = pd.concat([x_train, new_samples[['Temp', 'Humd']]])\n",
    "y_train = pd.concat([y_train, new_samples['Label']])"
   ]
  },
  {
   "cell_type": "code",
   "execution_count": 14,
   "metadata": {},
   "outputs": [],
   "source": [
    "z = KNeighborsClassifier(n_neighbors=3) # KNN classifier for 3 neighbours\n",
    "KNN = z.fit(x_train,y_train) # start training\n",
    "\n",
    "predict = KNN.predict(x_test) # performance in the test set   \n",
    "\n",
    "z_1 = SVC(kernel='linear') #SVC Classifier for linear kernel\n",
    "SVM = z_1.fit(x_train,y_train) # start training\n",
    "predict_1 = SVM.predict(x_test) # performance in the test set\n",
    "\n",
    "z_2 = DecisionTreeClassifier(criterion='gini', max_depth=None, random_state=42) # Decision Tree Classifier for gini criterion\n",
    "DTC = z_2.fit(x_train,y_train) # start training\n",
    "predict_2 = DTC.predict(x_test) # performance in the test set\n",
    "\n"
   ]
  },
  {
   "cell_type": "code",
   "execution_count": 15,
   "metadata": {},
   "outputs": [
    {
     "name": "stdout",
     "output_type": "stream",
     "text": [
      "           Model  Accuracy  Precision    Recall  F1 Score\n",
      "0            KNN  1.000000        1.0  1.000000  1.000000\n",
      "1            SVM  0.954545        1.0  0.954545  0.976744\n",
      "2  Decision Tree  0.954545        1.0  0.954545  0.976744\n"
     ]
    },
    {
     "name": "stderr",
     "output_type": "stream",
     "text": [
      "c:\\Users\\Progressive\\anaconda3\\lib\\site-packages\\sklearn\\metrics\\_classification.py:1248: UndefinedMetricWarning: Recall is ill-defined and being set to 0.0 in labels with no true samples. Use `zero_division` parameter to control this behavior.\n",
      "  _warn_prf(average, modifier, msg_start, len(result))\n",
      "c:\\Users\\Progressive\\anaconda3\\lib\\site-packages\\sklearn\\metrics\\_classification.py:1248: UndefinedMetricWarning: Recall is ill-defined and being set to 0.0 in labels with no true samples. Use `zero_division` parameter to control this behavior.\n",
      "  _warn_prf(average, modifier, msg_start, len(result))\n"
     ]
    }
   ],
   "source": [
    "results = []\n",
    "\n",
    "#knn metrics\n",
    "results.append({\n",
    "    \"Model\": \"KNN\",\n",
    "    \"Accuracy\": metrics.accuracy_score(y_test, predict),\n",
    "    \"Precision\": metrics.precision_score(y_test, predict, average='weighted', zero_division=1),\n",
    "    \"Recall\": metrics.recall_score(y_test, predict, average='weighted'),\n",
    "    \"F1 Score\": metrics.f1_score(y_test, predict, average='weighted')\n",
    "})\n",
    "\n",
    "# SVM Metrics\n",
    "results.append({\n",
    "    \"Model\": \"SVM\",\n",
    "    \"Accuracy\": metrics.accuracy_score(y_test, predict_1),\n",
    "    \"Precision\": metrics.precision_score(y_test, predict_1, average='weighted', zero_division=1),\n",
    "    \"Recall\": metrics.recall_score(y_test, predict_1, average='weighted'),\n",
    "    \"F1 Score\": metrics.f1_score(y_test, predict_1, average='weighted')\n",
    "})\n",
    "\n",
    "# Decision Tree Metrics\n",
    "results.append({\n",
    "    \"Model\": \"Decision Tree\",\n",
    "    \"Accuracy\": metrics.accuracy_score(y_test, predict_2),\n",
    "    \"Precision\": metrics.precision_score(y_test, predict_2, average='weighted', zero_division=1),\n",
    "    \"Recall\": metrics.recall_score(y_test, predict_2, average='weighted'),\n",
    "    \"F1 Score\": metrics.f1_score(y_test, predict_2, average='weighted')\n",
    "})\n",
    "\n",
    "# Convert to DataFrame for display\n",
    "results_df = pd.DataFrame(results)\n",
    "\n",
    "# Print Metrics Table\n",
    "print(results_df)"
   ]
  },
  {
   "cell_type": "code",
   "execution_count": 16,
   "metadata": {},
   "outputs": [
    {
     "data": {
      "image/png": "[encoded data removed]",
      "text/plain": [
       "<Figure size 576x432 with 1 Axes>"
      ]
     },
     "metadata": {
      "needs_background": "light"
     },
     "output_type": "display_data"
    }
   ],
   "source": [
    "import matplotlib.pyplot as plt\n",
    "# Plot Metrics for All Models\n",
    "metrics_list = [\"Accuracy\", \"Precision\", \"Recall\", \"F1 Score\"]\n",
    "colors = ['#4caf50', '#2196f3', '#ff9800', '#f44336']\n",
    "\n",
    "plt.figure(figsize=(8, 6))\n",
    "for i, metric in enumerate(metrics_list):\n",
    "    plt.bar(\n",
    "        [r + i * 0.2 for r in range(len(results_df))], \n",
    "        results_df[metric], \n",
    "        width=0.2, \n",
    "        label=metric, \n",
    "        color=colors[i]\n",
    "    )\n",
    "\n",
    "# Graph settings\n",
    "plt.title(\"Performance Comparison of KNN, SVM, and Decision Tree\")\n",
    "plt.xticks([r + 0.3 for r in range(len(results_df))], results_df[\"Model\"])\n",
    "plt.ylim(0, 1)  # Since metrics are between 0 and 1\n",
    "plt.ylabel(\"Score\")\n",
    "plt.xlabel(\"Model\")\n",
    "plt.legend()\n",
    "plt.grid(axis=\"y\", linestyle=\"--\", alpha=0.7)\n",
    "plt.tight_layout()\n",
    "\n",
    "# Show plot\n",
    "plt.show()"
   ]
  }
 ],
 "metadata": {
  "kernelspec": {
   "display_name": "Python 3",
   "language": "python",
   "name": "python3"
  },
  "language_info": {
   "codemirror_mode": {
    "name": "ipython",
    "version": 3
   },
   "file_extension": ".py",
   "mimetype": "text/x-python",
   "name": "python",
   "nbconvert_exporter": "python",
   "pygments_lexer": "ipython3",
   "version": "3.9.7"
  }
 },
 "nbformat": 4,
 "nbformat_minor": 2
}
